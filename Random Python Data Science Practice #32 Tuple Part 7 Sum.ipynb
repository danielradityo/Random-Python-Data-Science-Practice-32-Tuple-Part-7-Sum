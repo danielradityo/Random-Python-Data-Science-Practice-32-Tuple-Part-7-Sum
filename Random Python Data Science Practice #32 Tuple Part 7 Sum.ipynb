{
 "cells": [
  {
   "cell_type": "markdown",
   "metadata": {},
   "source": [
    "## Random Python Data Science Practice #32"
   ]
  },
  {
   "cell_type": "markdown",
   "metadata": {},
   "source": [
    "## Tuple Part 7 Sum"
   ]
  },
  {
   "cell_type": "code",
   "execution_count": 1,
   "metadata": {},
   "outputs": [
    {
     "name": "stdout",
     "output_type": "stream",
     "text": [
      "('Car', 'Motorcycle', 'Bycycle', 'Plane', 'Ship', 'Cano', 'Train', 'Truck', 'Jet', 'Helicopter')\n",
      "('Jakarta', 'Tokyo', 'Bandung', 'New York', 'Las Vegas', 'Yogyakarta', 'Beijing')\n",
      "('Daniel', 9, 3.4, True, 'Data', 'Science', False, 6.2, 4)\n"
     ]
    }
   ],
   "source": [
    "# Create Tuple\n",
    "vehicle_tuple = ('Car', 'Motorcycle', 'Bycycle', 'Plane', 'Ship', 'Cano', 'Train', 'Truck', 'Jet', 'Helicopter') # --> Tuple use ()\n",
    "city_tuple = ('Jakarta', 'Tokyo', 'Bandung', 'New York', 'Las Vegas', 'Yogyakarta', 'Beijing')\n",
    "mix_tuple = ('Daniel', 9, 3.4, True, 'Data', 'Science', False, 6.2, 4)\n",
    "print(vehicle_tuple)\n",
    "print(city_tuple)\n",
    "print(mix_tuple)"
   ]
  },
  {
   "cell_type": "markdown",
   "metadata": {},
   "source": [
    "## Sum Tuple"
   ]
  },
  {
   "cell_type": "code",
   "execution_count": 3,
   "metadata": {},
   "outputs": [
    {
     "name": "stdout",
     "output_type": "stream",
     "text": [
      "('Car', 'Motorcycle', 'Bycycle', 'Plane', 'Ship', 'Cano', 'Train', 'Truck', 'Jet', 'Helicopter', 'Jakarta', 'Tokyo', 'Bandung', 'New York', 'Las Vegas', 'Yogyakarta', 'Beijing', 'Daniel', 9, 3.4, True, 'Data', 'Science', False, 6.2, 4)\n"
     ]
    }
   ],
   "source": [
    "# Sum is for adding other tuple to a tuple\n",
    "all_tuple = vehicle_tuple + city_tuple + mix_tuple\n",
    "print(all_tuple)"
   ]
  },
  {
   "cell_type": "code",
   "execution_count": null,
   "metadata": {},
   "outputs": [],
   "source": []
  }
 ],
 "metadata": {
  "kernelspec": {
   "display_name": "Python 3",
   "language": "python",
   "name": "python3"
  },
  "language_info": {
   "codemirror_mode": {
    "name": "ipython",
    "version": 3
   },
   "file_extension": ".py",
   "mimetype": "text/x-python",
   "name": "python",
   "nbconvert_exporter": "python",
   "pygments_lexer": "ipython3",
   "version": "3.8.5"
  }
 },
 "nbformat": 4,
 "nbformat_minor": 4
}
